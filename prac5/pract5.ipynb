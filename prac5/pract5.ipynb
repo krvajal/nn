{
 "cells": [
  {
   "cell_type": "markdown",
   "metadata": {},
   "source": [
    "# Practica 5 - Redes neuronales"
   ]
  },
  {
   "cell_type": "markdown",
   "metadata": {},
   "source": [
    "### Miguel Angel Carvajal"
   ]
  },
  {
   "cell_type": "code",
   "execution_count": 2,
   "metadata": {
    "collapsed": true
   },
   "outputs": [],
   "source": [
    "import networkx as nx\n",
    "import matplotlib.pyplot as plt\n",
    "import seaborn\n",
    "import numpy as np"
   ]
  },
  {
   "cell_type": "markdown",
   "metadata": {},
   "source": [
    "#### Ejercicio 1\n",
    "La regla XOR tiene dos entradas (+1 o -1) y la salida es -1 si ambas son diferentes y +1 si ambas son iguales. Utilizar el algoritmo de retropropagación de errores para aprender el XOR en las siguientes arquitecturas (incluir unidades de entrada adicional para simular los umbrales). Comparar el tiempo de convergencia."
   ]
  },
  {
   "cell_type": "markdown",
   "metadata": {},
   "source": [
    "### Item a"
   ]
  },
  {
   "cell_type": "markdown",
   "metadata": {},
   "source": [
    "Se propone una red neuronal con la arquitectura siguiente"
   ]
  },
  {
   "cell_type": "code",
   "execution_count": 159,
   "metadata": {},
   "outputs": [
    {
     "data": {
      "image/png": "[encoded data removed]",
      "text/plain": [
       "<matplotlib.figure.Figure at 0x11024e410>"
      ]
     },
     "metadata": {},
     "output_type": "display_data"
    }
   ],
   "source": [
    "G1 = nx.DiGraph()\n",
    "layers = ['1','2','3']\n",
    "G1.add_nodes_from([1,2],layer='1')\n",
    "G1.add_nodes_from([3,4],layer='2')\n",
    "G1.add_nodes_from([5],layer='3')\n",
    "G1.add_edges_from([(1,3),(2,3),(1,4),(2,4),(3,5),(4,5)])\n",
    "pos = {1:(0,1),2:(0,-1),3:(1,1),4:(1,-1),5:(2,0)} # dictionary with positions\n",
    "nx.draw(G1, pos= pos)\n",
    "nx.draw_networkx_labels(G1,pos)\n",
    "plt.show()"
   ]
  },
  {
   "cell_type": "markdown",
   "metadata": {},
   "source": [
    "A continuación esta el codigo que construye la arquitectura dada en el item a y aplica el algoritmo de backpropagation para obterner los pesos finales"
   ]
  },
  {
   "cell_type": "code",
   "execution_count": 75,
   "metadata": {
    "collapsed": false
   },
   "outputs": [
    {
     "name": "stdout",
     "output_type": "stream",
     "text": [
      "[[  9.99589432e-01   9.42195616e-01   1.00000000e+00]\n",
      " [  9.29048739e-01   2.00316952e-02   1.00000000e+00]\n",
      " [  9.28904268e-01   1.98324557e-02   1.00000000e+00]\n",
      " [  6.56561897e-02   2.53740931e-05   1.00000000e+00]]\n",
      "[[ 0.99168132]\n",
      " [ 0.00865052]\n",
      " [ 0.00864508]\n",
      " [ 0.98939733]]\n",
      "weights\n",
      "[[-5.22760186 -6.69156809  0.09932496]\n",
      " [-5.22541224 -6.68136897 -0.33933036]\n",
      " [ 7.79759126  2.79115771 -0.40069065]]\n",
      "[[-11.00416978]\n",
      " [ 11.16790549]\n",
      " [  5.25822583]]\n"
     ]
    },
    {
     "data": {
      "image/png": "[encoded data removed]",
      "text/plain": [
       "<matplotlib.figure.Figure at 0x110b40e10>"
      ]
     },
     "metadata": {},
     "output_type": "display_data"
    }
   ],
   "source": [
    "def sigmoid(x, deriv = False):\n",
    "    if deriv:\n",
    "        return x*(1-x)\n",
    "    return 1/(1 + np.exp(-x))\n",
    "\n",
    "\n",
    "# input data, first and last are the bias\n",
    "D_in  = np.array([[0,0,1],\n",
    "                 [0,1,1],\n",
    "                 [1,0,1],\n",
    "                 [1,1,1]])\n",
    "D_out = np.array([[1],[0],[0],[1]])\n",
    "\n",
    "np.random.seed(2)\n",
    "\n",
    "syn0 = 2*np.random.random((3,3)) - 1\n",
    "syn1 = 2*np.random.random((3,1)) - 1\n",
    "\n",
    "errors = []\n",
    "# training step\n",
    "for j in range(16000):\n",
    "    l0 = D_in\n",
    "    l1 = sigmoid(np.dot(l0, syn0))\n",
    "    l1[:,2] = l0[:,2]\n",
    "    l2 = sigmoid(np.dot(l1, syn1))\n",
    "\n",
    "    l2_error = D_out - l2\n",
    "    err = str(np.mean(np.abs(l2_error)))\n",
    "#     if(j % 100) == 0:\n",
    "  \n",
    "#         print (\"Error: \" + str(err))\n",
    "    errors.append(err)\n",
    "    l2_delta = l2_error * sigmoid(l2, deriv = True)\n",
    "    l1_error = l2_delta.dot(syn1.T)\n",
    "    l1_delta = l1_error * sigmoid(l1, deriv = True)\n",
    "\n",
    "    # update weights\n",
    "    syn1 += l1.T.dot(l2_delta)\n",
    "    syn0 += l0.T.dot(l1_delta)\n",
    "\n",
    "print(l1)    \n",
    "print(l2)\n",
    "print (\"weights\")\n",
    "print (syn0)\n",
    "print  (syn1)\n",
    "n =  len(errors)\n",
    "plt.plot(np.linspace(0,1,n)*n, errors)\n",
    "plt.xlabel(\"Iter\")\n",
    "plt.ylabel(\"Error\")\n",
    "plt.show()\n",
    "errors_a = errors"
   ]
  },
  {
   "cell_type": "markdown",
   "metadata": {},
   "source": [
    "###### Item b"
   ]
  },
  {
   "cell_type": "markdown",
   "metadata": {},
   "source": [
    "La arquitectura del item b esta aparece a continuacion"
   ]
  },
  {
   "cell_type": "code",
   "execution_count": 155,
   "metadata": {},
   "outputs": [
    {
     "data": {
      "image/png": "[encoded data removed]",
      "text/plain": [
       "<matplotlib.figure.Figure at 0x1110b5550>"
      ]
     },
     "metadata": {},
     "output_type": "display_data"
    }
   ],
   "source": [
    "G= nx.DiGraph()\n",
    "layers = ['1','2','3']\n",
    "G.add_nodes_from([1,2],layer='1')\n",
    "G.add_nodes_from([3],layer='2')\n",
    "G.add_nodes_from([4],layer='3')\n",
    "G.add_edges_from([(1,3),(2,3),(3,4),(1,4),(2,4)])\n",
    "pos= {1:(0,1),2:(0,-1),3:(1,0),4:(2,0)}\n",
    "nx.draw(G, pos= pos)\n",
    "nx.draw_networkx_labels(G,pos)\n",
    "plt.show()"
   ]
  },
  {
   "cell_type": "markdown",
   "metadata": {},
   "source": [
    "A continuación esta el codigo que construye una red con dicha arquitectura "
   ]
  },
  {
   "cell_type": "code",
   "execution_count": 74,
   "metadata": {},
   "outputs": [
    {
     "name": "stdout",
     "output_type": "stream",
     "text": [
      "Error: 0.502133859242\n",
      "Error: 0.500014718334\n",
      "Error: 0.499436851038\n",
      "Error: 0.494782885212\n",
      "Error: 0.408672856488\n",
      "Error: 0.241817242618\n",
      "Error: 0.167654103848\n",
      "Error: 0.13191740648\n",
      "Error: 0.11096993037\n",
      "Error: 0.0970720265824\n",
      "Error: 0.0870847471174\n",
      "Error: 0.0795033241588\n",
      "Error: 0.0735152615328\n",
      "Error: 0.068641932285\n",
      "Error: 0.064582129657\n",
      "Error: 0.0611362460942\n",
      "Error: 0.0581664022481\n",
      "Error: 0.0555740656466\n",
      "Error: 0.0532867983923\n",
      "Error: 0.0512500540225\n",
      "Error: 0.0494219057095\n",
      "Error: 0.0477695477913\n",
      "Error: 0.0462669087241\n",
      "Error: 0.0448929823564\n",
      "Error: 0.0436306361444\n",
      "Error: 0.0424657436767\n",
      "Error: 0.0413865424489\n",
      "Error: 0.0403831510902\n",
      "Error: 0.0394472014124\n",
      "Error: 0.0385715544384\n",
      "Error: 0.0377500787233\n",
      "Error: 0.0369774754835\n",
      "Error: 0.0362491393164\n",
      "Error: 0.0355610462781\n",
      "Error: 0.034909663204\n",
      "Error: 0.0342918736783\n",
      "Error: 0.0337049171653\n",
      "Error: 0.0331463386313\n",
      "Error: 0.0326139465895\n",
      "Error: 0.0321057779571\n",
      "Error: 0.031620068458\n",
      "Error: 0.0311552275679\n",
      "Error: 0.0307098172023\n",
      "Error: 0.0302825335055\n",
      "Error: 0.0298721912226\n",
      "Error: 0.0294777102323\n",
      "Error: 0.0290981038985\n",
      "Error: 0.0287324689565\n",
      "Error: 0.0283799767018\n",
      "Error: 0.0280398652876\n",
      "Error: 0.0277114329707\n",
      "Error: 0.0273940321711\n",
      "Error: 0.0270870642312\n",
      "Error: 0.0267899747812\n",
      "Error: 0.0265022496275\n",
      "Error: 0.026223411098\n",
      "Error: 0.0259530147845\n",
      "Error: 0.0256906466321\n",
      "Error: 0.0254359203335\n",
      "Error: 0.0251884749907\n",
      "Error: 0.0249479730132\n",
      "Error: 0.0247140982232\n",
      "Error: 0.0244865541463\n",
      "Error: 0.0242650624654\n",
      "Error: 0.0240493616196\n",
      "Error: 0.0238392055334\n",
      "Error: 0.023634362461\n",
      "Error: 0.0234346139339\n",
      "Error: 0.0232397538021\n",
      "Error: 0.0230495873574\n",
      "Error: 0.0228639305321\n",
      "Error: 0.0226826091652\n",
      "Error: 0.0225054583291\n",
      "Error: 0.0223323217115\n",
      "Error: 0.0221630510467\n",
      "Error: 0.0219975055924\n",
      "Error: 0.0218355516475\n",
      "Error: 0.0216770621063\n",
      "Error: 0.0215219160474\n",
      "Error: 0.0213699983535\n",
      "Error: 0.0212211993585\n",
      "Error: 0.0210754145212\n",
      "Error: 0.0209325441223\n",
      "Error: 0.0207924929829\n",
      "Error: 0.0206551702026\n",
      "Error: 0.0205204889163\n",
      "Error: 0.0203883660673\n",
      "Error: 0.0202587221955\n",
      "Error: 0.0201314812407\n",
      "Error: 0.0200065703577\n",
      "Error: 0.0198839197447\n",
      "Error: 0.0197634624816\n",
      "Error: 0.0196451343795\n",
      "Error: 0.0195288738394\n",
      "Error: 0.0194146217195\n",
      "Error: 0.0193023212114\n",
      "Error: 0.0191919177227\n",
      "Error: 0.0190833587676\n",
      "Error: 0.0189765938641\n",
      "Error: 0.0188715744366\n",
      "Error: 0.0187682537244\n",
      "Error: 0.018666586696\n",
      "Error: 0.018566529968\n",
      "Error: 0.0184680417279\n",
      "Error: 0.0183710816628\n",
      "Error: 0.0182756108901\n",
      "Error: 0.0181815918941\n",
      "Error: 0.0180889884641\n",
      "Error: 0.0179977656372\n",
      "Error: 0.0179078896437\n",
      "Error: 0.017819327855\n",
      "Error: 0.0177320487353\n",
      "Error: 0.0176460217941\n",
      "Error: 0.0175612175431\n",
      "Error: 0.0174776074538\n",
      "Error: 0.0173951639181\n",
      "Error: 0.0173138602102\n",
      "Error: 0.0172336704512\n",
      "Error: 0.0171545695745\n",
      "Error: 0.0170765332938\n",
      "Error: 0.0169995380719\n",
      "Error: 0.0169235610916\n",
      "Error: 0.0168485802273\n",
      "Error: 0.0167745740189\n",
      "Error: 0.0167015216456\n",
      "Error: 0.0166294029025\n",
      "Error: 0.0165581981768\n",
      "Error: 0.0164878884258\n",
      "Error: 0.0164184551563\n",
      "Error: 0.0163498804036\n",
      "Error: 0.0162821467131\n",
      "Error: 0.0162152371214\n",
      "Error: 0.0161491351387\n",
      "Error: 0.0160838247323\n",
      "Error: 0.01601929031\n",
      "Error: 0.0159555167051\n",
      "Error: 0.0158924891615\n",
      "Error: 0.0158301933193\n",
      "Error: 0.0157686152017\n",
      "Error: 0.0157077412016\n",
      "Error: 0.0156475580692\n",
      "Error: 0.0155880529003\n",
      "Error: 0.0155292131247\n",
      "Error: 0.015471026495\n",
      "Error: 0.0154134810762\n",
      "Error: 0.0153565652356\n",
      "Error: 0.015300267633\n",
      "Error: 0.0152445772112\n",
      "Error: 0.0151894831873\n",
      "Error: 0.0151349750435\n",
      "Error: 0.0150810425196\n",
      "Error: 0.0150276756041\n",
      "Error: 0.014974864527\n",
      "Error: 0.0149225997526\n",
      "Error: 0.0148708719715\n",
      "Error: 0.0148196720947\n",
      "Error: 0.0147689912464\n",
      "Error: 0.0147188207577\n",
      "Error: 0.0146691521606\n",
      "Error: 0.0146199771818\n",
      "[[ 0.01550166]\n",
      " [ 0.9834097 ]\n",
      " [ 0.988201  ]\n",
      " [ 0.01439614]]\n",
      "weights\n",
      "Layer1 [[-0.16595599  8.29854581 -0.99977125 -0.39533485]\n",
      " [-0.70648822 -4.57663776 -0.62747958 -0.30887855]\n",
      " [-0.20646505 -8.56801613 -0.16161097  0.370439  ]]\n",
      "Layer2 [[ -8.44593458]\n",
      " [ 17.62065808]\n",
      " [  8.41288618]\n",
      " [ -4.33067915]]\n"
     ]
    },
    {
     "data": {
      "image/png": "[encoded data removed]",
      "text/plain": [
       "<matplotlib.figure.Figure at 0x1023a6dd0>"
      ]
     },
     "metadata": {},
     "output_type": "display_data"
    }
   ],
   "source": [
    "# input data\n",
    "D_in  = np.array([[0,1,0],\n",
    "                 [0,1,1],\n",
    "                 [1,1,0],\n",
    "                 [1,1,1]])\n",
    "D_out = np.array([[0],[1],[1],[0]])\n",
    "\n",
    "np.random.seed(1)\n",
    "\n",
    "syn0 = 2*np.random.random((3,4)) - 1\n",
    "syn1 = 2*np.random.random((4,1)) - 1\n",
    "\n",
    "errors = []\n",
    "# training step\n",
    "for j in range(16000):\n",
    "    l0 = D_in\n",
    "    l1 = sigmoid(np.dot(l0, syn0))\n",
    "    l1[:,0] = l0[:,0]\n",
    "    l1[:,2] = l0[:,2]\n",
    "    l1[:,3] = l0[:,1]\n",
    "    l2 = sigmoid(np.dot(l1, syn1))\n",
    "    l2_error = D_out - l2\n",
    "\n",
    "    if(j % 100) == 0:\n",
    "        err = np.mean(np.abs(l2_error))\n",
    "        print \"Error: \" + str(err) \n",
    "    errors.append(err)\n",
    "    l2_delta = l2_error * sigmoid(l2, deriv = True)\n",
    "    l1_error = l2_delta.dot(syn1.T)\n",
    "    l1_delta = l1_error* sigmoid(l1, deriv = True)\n",
    "\n",
    "\n",
    "    # update weights\n",
    "    syn1 += l1.T.dot(l2_delta)\n",
    "    #print \"l1\", l1.shape\n",
    "    # print \"l1_error\",l1_error[:,2:3].shape\n",
    "    # quit()\n",
    "    #print \"sig\", sigmoid(l1,de`riv = True).shape\n",
    "    # print \"l1_delta\", l1_delta.shape\n",
    "    #print \"shape\",l0.shape\n",
    "    syn0 += l0.T.dot(l1_delta)\n",
    "\n",
    "\n",
    "print l2\n",
    "print \"weights\"\n",
    "print \"Layer1\",syn0\n",
    "print \"Layer2\",syn1\n",
    "n = len(errors)\n",
    "\n",
    "plt.plot(np.linspace(0,1,n)*n, errors)\n",
    "plt.xlabel(\"Iteraciones\")\n",
    "plt.ylabel(\"Erorr\")\n",
    "plt.show()\n",
    "errors_b = errors\n"
   ]
  },
  {
   "cell_type": "code",
   "execution_count": 76,
   "metadata": {},
   "outputs": [
    {
     "data": {
      "image/png": "[encoded data removed]",
      "text/plain": [
       "<matplotlib.figure.Figure at 0x11080aed0>"
      ]
     },
     "metadata": {},
     "output_type": "display_data"
    }
   ],
   "source": [
    "n = len(errors_a)\n",
    "iterations = np.linspace(0,1,n)*n\n",
    "plt.plot(iterations, errors_a, label=\"Errors A\")\n",
    "plt.plot(iterations, errors_b, label=\"Errors B\" )\n",
    "plt.legend()\n",
    "plt.show()"
   ]
  },
  {
   "cell_type": "markdown",
   "metadata": {},
   "source": [
    "### Problema 2"
   ]
  },
  {
   "cell_type": "markdown",
   "metadata": {},
   "source": [
    "El problema de paridad es una generalización del XOR para N entradas. La salida es +1 si el producto de las N entradas es +1 y -1 si el producto de las entradas es -1. Utilizando retropropagación aprender el problema en la siguiente arquitectura. Que pasa si N′ < N?"
   ]
  },
  {
   "cell_type": "code",
   "execution_count": 87,
   "metadata": {},
   "outputs": [
    {
     "name": "stdout",
     "output_type": "stream",
     "text": [
      "Error: 0.471123734219\n",
      "Error: 0.00241236336049\n",
      "Error: 0.00206176430508\n",
      "Error: 0.00188884124559\n",
      "Error: 0.00177151069056\n",
      "Error: 0.00168306434654\n",
      "Error: 0.0016126597167\n",
      "Error: 0.00155459769209\n",
      "Error: 0.00150546783753\n",
      "Error: 0.00146306343261\n",
      "Error: 0.00142587807335\n",
      "Error: 0.00139284161106\n",
      "Error: 0.00136316964244\n",
      "Error: 0.0013362723589\n",
      "Error: 0.00131169670176\n",
      "Error: 0.00128908824999\n",
      "Error: 0.00126816531922\n",
      "Error: 0.00124870089318\n",
      "Error: 0.00123050973318\n",
      "Error: 0.00121343900027\n",
      "Error: 0.00119736131471\n",
      "Error: 0.00118216954017\n",
      "Error: 0.00116777280998\n",
      "Error: 0.00115409346206\n",
      "Error: 0.00114106464796\n",
      "Error: 0.00112862844847\n",
      "Error: 0.00111673437448\n",
      "Error: 0.00110533816373\n",
      "Error: 0.00109440080729\n",
      "Error: 0.00108388775596\n",
      "[[0]\n",
      " [1]\n",
      " [0]\n",
      " [0]\n",
      " [1]\n",
      " [0]\n",
      " [1]\n",
      " [1]\n",
      " [0]\n",
      " [0]\n",
      " [0]\n",
      " [0]\n",
      " [1]\n",
      " [1]\n",
      " [0]\n",
      " [1]\n",
      " [1]\n",
      " [1]\n",
      " [1]\n",
      " [0]]\n",
      "[[ 0.000]\n",
      " [ 1.000]\n",
      " [ 0.000]\n",
      " [ 0.000]\n",
      " [ 1.000]\n",
      " [ 0.000]\n",
      " [ 1.000]\n",
      " [ 1.000]\n",
      " [ 0.000]\n",
      " [ 0.000]\n",
      " [ 0.000]\n",
      " [ 0.000]\n",
      " [ 1.000]\n",
      " [ 1.000]\n",
      " [ 0.000]\n",
      " [ 1.000]\n",
      " [ 1.000]\n",
      " [ 1.000]\n",
      " [ 1.000]\n",
      " [ 0.000]]\n"
     ]
    }
   ],
   "source": [
    "N1 = 50\n",
    "N2  = 60\n",
    "\n",
    "p = 20 # number of test cases\n",
    "np.random.seed(1)\n",
    "# input data, first and last are the bias\n",
    "D_in  = 2*np.random.randint(0,2,(p,N1)) - 1\n",
    "D_out = np.empty((p,1))\n",
    "\n",
    "for i in range(p):\n",
    "    D_out[i] = (np.prod(D_in[i,:]) + 1)/2\n",
    "\n",
    "syn0 = 2*np.random.random((N1,N2)) - 1\n",
    "syn1 = 2*np.random.random((N2,1)) - 1\n",
    "\n",
    "# training step\n",
    "for j in range(3000):\n",
    "    l0 = D_in\n",
    "    l1 = sigmoid(np.dot(l0, syn0))\n",
    "    l2 = sigmoid(np.dot(l1, syn1))\n",
    "    l2_error = D_out - l2\n",
    "    if(j % 100) == 0:\n",
    "        print \"Error: \" + str(np.mean(np.abs(l2_error)))\n",
    "    l2_delta = l2_error * sigmoid(l2, deriv = True)\n",
    "    l1_error = l2_delta.dot(syn1.T)\n",
    "    l1_delta = l1_error * sigmoid(l1, deriv = True)\n",
    "    # update weights\n",
    "    syn1 += l1.T.dot(l2_delta)\n",
    "    syn0 += l0.T.dot(l1_delta)\n",
    "def cleanup(x):\n",
    "    if (x < 0.1): return 0\n",
    "    if (x > 0.9): return 1\n",
    "f= np.vectorize(cleanup)    \n",
    "print(f(l2))\n",
    "print(D_out)"
   ]
  },
  {
   "cell_type": "markdown",
   "metadata": {},
   "source": [
    "Para N' < N no se observó ningun cambio en la respuesta de la red."
   ]
  },
  {
   "cell_type": "markdown",
   "metadata": {},
   "source": [
    "### Problema 3"
   ]
  },
  {
   "cell_type": "markdown",
   "metadata": {},
   "source": [
    "Aprender utilizando retropropagación el mapeo logítico $x(t + 1) = 4x(t)(1 − x(t))$ en la siguiente arquitectura. La función de activación. Presentar 100 ejemplos y luego testear para ejemplos no presentados. Comparar el error de entrenamiento con el error de generalización."
   ]
  },
  {
   "cell_type": "code",
   "execution_count": 153,
   "metadata": {},
   "outputs": [
    {
     "name": "stdout",
     "output_type": "stream",
     "text": [
      "(100, 1)\n"
     ]
    },
    {
     "data": {
      "image/png": "[encoded data removed]",
      "text/plain": [
       "<matplotlib.figure.Figure at 0x10fbf01d0>"
      ]
     },
     "metadata": {},
     "output_type": "display_data"
    },
    {
     "name": "stdout",
     "output_type": "stream",
     "text": [
      "Error: 2.39152852661\n",
      "Error: 0.251520126163\n",
      "Error: 0.244798999831\n",
      "Error: 0.235004788992\n",
      "Error: 0.219615825297\n",
      "Error: 0.195467886205\n",
      "Error: 0.160333344742\n",
      "Error: 0.116837421351\n",
      "Error: 0.0747219909244\n",
      "Error: 0.0438498241693\n",
      "Error: 0.0268365505417\n",
      "Error: 0.0205664535642\n",
      "Error: 0.0197992230816\n",
      "Error: 0.0192532200528\n",
      "Error: 0.0185719720081\n",
      "Error: 0.0178103664749\n",
      "Error: 0.0170609771325\n",
      "Error: 0.0163682114245\n",
      "Error: 0.0158649975496\n",
      "Error: 0.0154590922963\n",
      "Error: 0.015127163965\n",
      "Error: 0.0148498441175\n",
      "Error: 0.0146384356092\n",
      "Error: 0.0144602762953\n",
      "Error: 0.0143160564946\n",
      "Error: 0.0142013188639\n",
      "Error: 0.0141372068763\n",
      "Error: 0.0140813189084\n",
      "Error: 0.0140281645164\n",
      "Error: 0.0139775150191\n"
     ]
    },
    {
     "data": {
      "image/png": "[encoded data removed]",
      "text/plain": [
       "<matplotlib.figure.Figure at 0x110904090>"
      ]
     },
     "metadata": {},
     "output_type": "display_data"
    }
   ],
   "source": [
    "def lineal(x, deriv = False):\n",
    "    if deriv:\n",
    "        return 1\n",
    "    return x\n",
    "\n",
    "\n",
    "N1 = 1\n",
    "N2  = 50\n",
    "\n",
    "p = 100 # number of test cases\n",
    "np.random.seed(2)\n",
    "\n",
    "\n",
    "# input data, first and last are the bias\n",
    "x  = np.random.rand(p,N1)\n",
    "print x.shape\n",
    "D_in = np.ones((p,2))\n",
    "D_in[:,-1:]= x\n",
    "\n",
    "# print (D_in)\n",
    "\n",
    "D_out = np.empty((p,1))\n",
    "D_out[:,0] = 4*D_in[:,1]*(1-D_in[:,1] )\n",
    "\n",
    "plt.scatter(D_in[:,1],D_out[:,0], marker=\"x\")\n",
    "plt.show()\n",
    "\n",
    "\n",
    "syn0 = 2*np.random.random((2,N2)) - 1\n",
    "syn1 = 2*np.random.random((N2,1)) - 1\n",
    "\n",
    "def evaluate(syn0, syn1, input):\n",
    "    l0 = input\n",
    "    l1 = sigmoid(np.dot(l0,syn0))\n",
    "    l1[:,0] = 1 # bias\n",
    "    l1[:,1] = l0[:,1]\n",
    "    l2 = lineal(np.dot(l1,syn1))\n",
    "    return l2\n",
    "\n",
    "eta = 0.001\n",
    "# training step\n",
    "for j in range(30000):\n",
    "    l0 = D_in\n",
    "\n",
    "    l1 = sigmoid(np.dot(l0, syn0))\n",
    " \n",
    "    l1[:,0] = 1 # bias\n",
    "    l1[:,1] = l0[:,1]\n",
    "    l2 = lineal(np.dot(l1, syn1))\n",
    "\n",
    "    l2_error = D_out - l2\n",
    "    if(j % 1000) == 0:\n",
    "        print (\"Error: \" + str(np.mean(np.abs(l2_error))))\n",
    "    l2_delta = l2_error * lineal(l2, deriv = True)\n",
    "\n",
    "    l1_error = l2_delta.dot(syn1.T)\n",
    "\n",
    "    l1_delta = l1_error * sigmoid(l1, deriv = True)\n",
    "\n",
    "    # update weights\n",
    "    syn1 += eta*l1.T.dot(l2_delta)\n",
    "    syn0 += eta*l0.T.dot(l1_delta)\n",
    "np.set_printoptions(formatter={'float': '{: 0.3f}'.format})\n",
    "# print(l2)\n",
    "\n",
    "x = np.linspace(0,1,100)\n",
    "D_in = np.ones((100,2))\n",
    "D_in[:,1]= x\n",
    "plt.plot(x, 4*x*(1-x),'b',label=r\"$f(x) = 4x(1-x)$\")\n",
    "plt.scatter(x, evaluate(syn0,syn1,D_in),marker='x',color='r',label=\"learned function\", s = 10)\n",
    "plt.legend()\n",
    "plt.show()"
   ]
  },
  {
   "cell_type": "markdown",
   "metadata": {},
   "source": [
    "Arriba se muestra la funcion aprendida y por la red neuronal. Se ve que la capacidad de generalizacion es bastante buena con un error mas marcado para valores de x mayores"
   ]
  },
  {
   "cell_type": "code",
   "execution_count": null,
   "metadata": {},
   "outputs": [],
   "source": []
  }
 ],
 "metadata": {
  "kernelspec": {
   "display_name": "Python 2",
   "language": "python",
   "name": "python2"
  },
  "language_info": {
   "codemirror_mode": {
    "name": "ipython",
    "version": 2
   },
   "file_extension": ".py",
   "mimetype": "text/x-python",
   "name": "python",
   "nbconvert_exporter": "python",
   "pygments_lexer": "ipython2",
   "version": "2.7.13"
  }
 },
 "nbformat": 4,
 "nbformat_minor": 2
}
