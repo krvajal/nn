{
 "cells": [
  {
   "cell_type": "code",
   "execution_count": 30,
   "metadata": {
    "collapsed": true
   },
   "outputs": [],
   "source": [
    "import numpy as np\n",
    "from numpy import exp, tanh\n",
    "import matplotlib.pyplot as plt\n",
    "from scipy.integrate import odeint\n",
    "from scipy.signal import find_peaks_cwt\n",
    "import numpy.fft as fft"
   ]
  },
  {
   "cell_type": "markdown",
   "metadata": {},
   "source": [
    "## Ejercicio 1"
   ]
  },
  {
   "cell_type": "markdown",
   "metadata": {},
   "source": [
    "Considerar un sistema con dos poblaciones de neuronas descritas por un modelo tasa de disparo con una relaci\\'on I-f semilineal:\n",
    "\n",
    "$$\\tau\\frac{d f_e}{dt} = - f_{e} + g_{ee} S_e - g_{ei}S_{i} + I_{e}$$\n",
    "$$\\tau\\frac{d f_i}{dt} = - f_{i} + g_{ie} S_e - g_{ii}S_{i} + I_{i}$$\n",
    "donde $S_{e} = f_e H(f_e)$ y $S_{i} = f_i H(f_i)$"
   ]
  },
  {
   "cell_type": "code",
   "execution_count": 31,
   "metadata": {
    "collapsed": false
   },
   "outputs": [
    {
     "data": {
      "image/png": "[encoded data removed]",
      "text/plain": [
       "<matplotlib.figure.Figure at 0x1132693d0>"
      ]
     },
     "metadata": {},
     "output_type": "display_data"
    }
   ],
   "source": [
    "def heavy_side(f):\n",
    "    if f > 0: return 1\n",
    "    return 0\n",
    "def S(f):\n",
    "    return f*heavy_side(f)\n",
    "\n",
    "# define the diferentia equations pair\n",
    "def ode_function(y, t, I_e, I_i, g):\n",
    "    fe = y[0]\n",
    "    fi = y[1] \n",
    "    dfedt = - fe + g[0,0]*S(fe)- g[0,1]*S(fi) + I_e\n",
    "    dfidt = - fi + g[1,0]*S(fe)- g[1,1]*S(fi) + I_i\n",
    "    return np.array([dfedt,dfidt])\n",
    "    \n",
    "g = np.array([ [1,1],[-1,1]])\n",
    "N = 100\n",
    "t = np.linspace(0,100,N)\n",
    "fe0 = -10\n",
    "fi0 = 2\n",
    "I_e = 1\n",
    "I_i = 1\n",
    "sol = odeint(ode_function, [fe0, fi0], t, args=(I_e, I_i, g) )\n",
    "plt.plot(t,sol[:,0], '-',label=r'$f_{e}$')\n",
    "plt.plot(t,sol[:,1], '-',label=r'$f_{i}$')\n",
    "plt.xlabel(r\"Tiempo [s]\")\n",
    "plt.ylabel(r\"Tasa de disparo\")\n",
    "plt.legend()\n",
    "plt.show()"
   ]
  },
  {
   "cell_type": "markdown",
   "metadata": {},
   "source": [
    "## Ejercicio 2"
   ]
  },
  {
   "cell_type": "markdown",
   "metadata": {},
   "source": []
  },
  {
   "cell_type": "markdown",
   "metadata": {},
   "source": [
    "Simular la dinámica de dos neuronas HH conectadas simétricamente con interacciones sináticas excitatorias. "
   ]
  },
  {
   "cell_type": "code",
   "execution_count": 32,
   "metadata": {
    "collapsed": true
   },
   "outputs": [],
   "source": [
    "#### define the differentia equations\n",
    "def a_m(V):\n",
    "    return 0.1 * (V + 40)/(1- exp(-(V+40)/10.0))\n",
    "def b_m(V):\n",
    "    return 4.0 * exp(- (V+65)/18)\n",
    "def a_h(V):\n",
    "    return 0.07 * exp(-(V + 65)/20)\n",
    "def b_h(V):\n",
    "    return 1/(1.0 + exp(-(V + 35)/10))\n",
    "def a_n(V):\n",
    "    return 0.01* (V + 55)/(1 - exp(-(V + 55)/10))\n",
    "def b_n(V):\n",
    "    return 0.125 *exp(-(V + 65)/80)\n",
    "def m_inf(V):\n",
    "    return a_m(V)/(a_m(V) + b_m(V))\n",
    "def h_inf(V):\n",
    "    return a_h(V)/(a_h(V) + b_h(V))\n",
    "def n_inf(V):\n",
    "    return a_n(V)/(a_n(V) + b_n(V))\n",
    "def tau_m(V):\n",
    "    return 1/(a_m(V) + b_m(V))\n",
    "def tau_n(V):\n",
    "    return 1/(a_n(V) + b_n(V))\n",
    "def tau_h(V):\n",
    "    return 1/(a_h(V) + b_h(V))\n",
    "\n",
    "def s_inf(V):\n",
    "    return  0.5*(1 + tanh(V/5))"
   ]
  },
  {
   "cell_type": "code",
   "execution_count": 5,
   "metadata": {
    "collapsed": true
   },
   "outputs": [],
   "source": [
    "C = 1;\n",
    "V_na = 50;\n",
    "V_k = -77;\n",
    "V_l = -54.5;\n",
    "g_na = 120;\n",
    "g_k = 36;\n",
    "g_l = 0.3;\n",
    "g_syn = -1;"
   ]
  },
  {
   "cell_type": "code",
   "execution_count": null,
   "metadata": {
    "collapsed": true
   },
   "outputs": [],
   "source": []
  },
  {
   "cell_type": "code",
   "execution_count": 91,
   "metadata": {
    "collapsed": true
   },
   "outputs": [],
   "source": [
    "# define the differential equations\n",
    "# Y =[V1, m1,h1,n1,S1,V2,m2,h2,n2,S2]\n",
    "\n",
    "def pend(y, t,I_ext, V_syn, tau,g_syn):\n",
    "    V1, m1,h1,n1,S1,V2,m2,h2,n2,S2 = y\n",
    "    dV1dt = 1/C* (I_ext - g_na *m1**3 * h1*(V1- V_na) - g_k * n1**4 * (V1 - V_k) - g_l * (V1 - V_l) - g_syn*S2*(V1 - V_syn) )\n",
    "    dV2dt = 1/C* (I_ext - g_na *m2**3 * h2*(V2- V_na) - g_k * n2**4 * (V2 - V_k) - g_l * (V2 - V_l)  - g_syn*S1*(V2 - V_syn))\n",
    "    dm1dt =  (m_inf(V1) - m1)/tau_m(V1)\n",
    "    dm2dt =  (m_inf(V2) - m2)/tau_m(V2)\n",
    "    dn1dt =  (n_inf(V1) - n1)/tau_n(V1)\n",
    "    dn2dt =  (n_inf(V2) - n2)/tau_n(V2)\n",
    "    dh1dt =  (h_inf(V1) - h1)/tau_h(V1)\n",
    "    dh2dt =  (h_inf(V2) - h2)/tau_h(V2)\n",
    "    dS1dt = (s_inf(V1) - S1)/tau\n",
    "    dS2dt = (s_inf(V2) - S2)/tau\n",
    "    return [dV1dt, dm1dt, dh1dt, dn1dt, dS1dt,dV2dt, dm2dt, dh2dt, dn2dt, dS2dt]\n",
    " "
   ]
  },
  {
   "cell_type": "code",
   "execution_count": 88,
   "metadata": {
    "collapsed": true
   },
   "outputs": [],
   "source": [
    "def calcular_taza_disparo(times,spikes):\n",
    "    assert times.size == spikes.size\n",
    "    freq_val = fft.fft(spikes)\n",
    "    sampling = times[1] - times[0]\n",
    "    freq = fft.fftfreq(times.size, sampling)\n",
    "    indexes = freq > 0.1\n",
    "#     plt.xlim([0.11,1])\n",
    "#     plt.plot(freq[indexes], np.abs(freq_val[indexes]),'-x')\n",
    "    max_freq_pos = np.argmax(np.abs(freq_val[indexes]))\n",
    "#     plt.show()\n",
    "    max_freq = freq[indexes][max_freq_pos]\n",
    "    print max_freq_pos, max_freq, 1/max_freq\n",
    "    return max_freq\n",
    "\n",
    "def find_zero_pos(signal, start):\n",
    "    pos = start\n",
    "    while signal[pos]*signal[pos-1] > 0:\n",
    "        pos = pos + 1\n",
    "    return pos\n",
    "\n",
    "def calcular_desfasaje(time, signal1, signal2):\n",
    "\n",
    "    signal1 = signal1 -  np.mean(signal1)\n",
    "    signal2 = signal2 - np.mean(signal2)\n",
    "    pos1 = find_zero_pos(signal1, 1)\n",
    "    pos11 = find_zero_pos(signal1, pos1 + 1)\n",
    "    \n",
    "    pos2 = find_zero_pos(signal2, 1)\n",
    "    pos22 = find_zero_pos(signal2, pos2 + 1)\n",
    "    print \"========\"\n",
    "    print    time[pos1] - time[pos2], time[pos11] - time[pos22] , time[pos1] - time[pos22]\n",
    "    print \"========\"\n",
    "    return time[pos1] - time[pos2]\n",
    "    "
   ]
  },
  {
   "cell_type": "markdown",
   "metadata": {},
   "source": [
    "#### Parte A"
   ]
  },
  {
   "cell_type": "markdown",
   "metadata": {},
   "source": [
    " Fijo $V_{syn} = 0$"
   ]
  },
  {
   "cell_type": "code",
   "execution_count": 99,
   "metadata": {
    "collapsed": true
   },
   "outputs": [],
   "source": [
    "I_ext = 100 # suficiente para que dispare\n",
    "tau = 3"
   ]
  },
  {
   "cell_type": "code",
   "execution_count": 100,
   "metadata": {
    "collapsed": true
   },
   "outputs": [],
   "source": [
    "\n",
    "t = np.linspace(0,100,20000)"
   ]
  },
  {
   "cell_type": "code",
   "execution_count": 98,
   "metadata": {
    "collapsed": false
   },
   "outputs": [],
   "source": [
    "\n",
    "def run_simulation(V_syn):\n",
    "    n = 20\n",
    "    g_syn = np.linspace(0,4,n)\n",
    "    plt.figure()\n",
    "    indices = t > 30\n",
    "    spikes = []\n",
    "    tasas = []\n",
    "    desfasajes = []\n",
    "    t_indices = t > 21\n",
    "    # V1, m1,h1,n1,S1,V2,m2,h2,n2,S2 \n",
    "    y0 = [-10, \n",
    "          0,\n",
    "          0,\n",
    "          0,\n",
    "          1,\n",
    "          20,\n",
    "          0,\n",
    "          0,\n",
    "          0,\n",
    "          1]\n",
    "    for i in range(0,n):\n",
    "        print  \"g_syn\",g_syn[i]\n",
    "        sol = odeint(pend, y0, t, args=(I_ext, V_syn,tau, g_syn[i]))\n",
    "    #     plt.subplot(n, 1, i + 1)\n",
    "    #     plt.xlim([20,40])\n",
    "    #     plt.plot(t[t_indices], sol[t_indices, 0] - mean_value, 'b', label='V1(t)')\n",
    "    #     plt.show()\n",
    "    #     plt.plot(t[t_indices], sol[t_indices, 5] - mean_value , 'r', label='V2(t)')\n",
    "    #     plt.show()\n",
    "    #     plt.text(10,0,r\"$g_{syn}$ = %lf\"%g_syn[i])\n",
    "        tasa = calcular_taza_disparo(t[indices],sol[indices,5])\n",
    "        desfasaje = calcular_desfasaje(t[indices], sol[indices,0],sol[indices,5])\n",
    "        print \"desfasaje:\",desfasaje\n",
    "        tasas.append([g_syn[i],tasa])\n",
    "        desfasajes.append([g_syn[i], desfasaje])\n",
    "    data = np.array(tasas)\n",
    "    plt.plot(data[:,0],1/data[:,1])\n",
    "    plt.xlabel(r\"$g_{syn}$\")\n",
    "    plt.ylabel(r\"Tasa de disparo\")\n",
    "    plt.show()\n",
    "    data= np.array(desfasajes)\n",
    "    plt.plot(data[:,0],data[:,1],'x-')\n",
    "    plt.xlabel(r\"$g_{syn}$\")\n",
    "    plt.ylabel(r\"$Desfasaje$\")\n",
    "    plt.show()\n",
    "\n"
   ]
  },
  {
   "cell_type": "code",
   "execution_count": 101,
   "metadata": {
    "collapsed": false
   },
   "outputs": [
    {
     "name": "stdout",
     "output_type": "stream",
     "text": [
      "g_syn 0.0\n",
      "2 0.14285 7.0003500175\n",
      "========\n",
      "0.335016750838 0.350017500875 -2.46012300615\n",
      "========\n",
      "desfasaje: 0.335016750838\n",
      "g_syn 0.210526315789\n",
      "2 0.14285 7.0003500175\n",
      "========\n",
      "0.30001500075 0.305015250763 -2.51012550628\n",
      "========\n",
      "desfasaje: 0.30001500075\n",
      "g_syn 0.421052631579\n",
      "2 0.14285 7.0003500175\n",
      "========\n",
      "0.250012500625 0.255012750638 -2.56512825641\n",
      "========\n",
      "desfasaje: 0.250012500625\n",
      "g_syn 0.631578947368\n",
      "2 0.14285 7.0003500175\n",
      "========\n",
      "0.2000100005 0.195009750488 -2.62013100655\n",
      "========\n",
      "desfasaje: 0.2000100005\n",
      "g_syn 0.842105263158\n",
      "2 0.14285 7.0003500175\n",
      "========\n",
      "0.145007250363 0.150007500375 -3.81519075954\n",
      "========\n",
      "desfasaje: 0.145007250363\n",
      "g_syn 1.05263157895\n",
      "2 0.14285 7.0003500175\n",
      "========\n",
      "0.115005750288 0.1200060003 -3.85519275964\n",
      "========\n",
      "desfasaje: 0.115005750288\n",
      "g_syn 1.26315789474\n",
      "2 0.14285 7.0003500175\n",
      "========\n",
      "0.090004500225 0.0950047502375 -3.89019450973\n",
      "========\n",
      "desfasaje: 0.090004500225\n",
      "g_syn 1.47368421053\n",
      "2 0.14285 7.0003500175\n",
      "========\n",
      "0.070003500175 0.0750037501875 -3.92519625981\n",
      "========\n",
      "desfasaje: 0.070003500175\n",
      "g_syn 1.68421052632\n",
      "2 0.14285 7.0003500175\n",
      "========\n",
      "0.06000300015 0.0650032501625 -3.95019750988\n",
      "========\n",
      "desfasaje: 0.06000300015\n",
      "g_syn 1.89473684211\n",
      "2 0.14285 7.0003500175\n",
      "========\n",
      "0.0450022501125 0.0550027501375 -3.97519875994\n",
      "========\n",
      "desfasaje: 0.0450022501125\n",
      "g_syn 2.10526315789\n",
      "2 0.14285 7.0003500175\n",
      "========\n",
      "0.0400020001 0.0450022501125 -3.99519975999\n",
      "========\n",
      "desfasaje: 0.0400020001\n",
      "g_syn 2.31578947368\n",
      "2 0.14285 7.0003500175\n",
      "========\n",
      "0.0350017500875 0.0400020001 -4.01520076004\n",
      "========\n",
      "desfasaje: 0.0350017500875\n",
      "g_syn 2.52631578947\n",
      "2 0.14285 7.0003500175\n",
      "========\n",
      "0.030001500075 0.0350017500875 -4.03020151008\n",
      "========\n",
      "desfasaje: 0.030001500075\n",
      "g_syn 2.73684210526\n",
      "2 0.14285 7.0003500175\n",
      "========\n",
      "0.030001500075 0.0250012500625 -4.0402020101\n",
      "========\n",
      "desfasaje: 0.030001500075\n",
      "g_syn 2.94736842105\n",
      "2 0.14285 7.0003500175\n",
      "========\n",
      "0.0250012500625 0.0250012500625 -4.05020251013\n",
      "========\n",
      "desfasaje: 0.0250012500625\n",
      "g_syn 3.15789473684\n",
      "2 0.14285 7.0003500175\n",
      "========\n",
      "0.02000100005 0.02000100005 -4.06020301015\n",
      "========\n",
      "desfasaje: 0.02000100005\n",
      "g_syn 3.36842105263\n",
      "2 0.14285 7.0003500175\n",
      "========\n",
      "0.0150007500375 0.02000100005 -4.06020301015\n",
      "========\n",
      "desfasaje: 0.0150007500375\n",
      "g_syn 3.57894736842\n",
      "2 0.14285 7.0003500175\n",
      "========\n",
      "0.0150007500375 0.0150007500375 -4.06520326016\n",
      "========\n",
      "desfasaje: 0.0150007500375\n",
      "g_syn 3.78947368421\n",
      "2 0.14285 7.0003500175\n",
      "========\n",
      "0.0150007500375 0.0150007500375 -4.06520326016\n",
      "========\n",
      "desfasaje: 0.0150007500375\n",
      "g_syn 4.0\n",
      "2 0.14285 7.0003500175\n",
      "========\n",
      "0.0150007500375 0.0150007500375 -4.06020301015\n",
      "========\n",
      "desfasaje: 0.0150007500375\n"
     ]
    },
    {
     "data": {
      "image/png": "[encoded data removed]",
      "text/plain": [
       "<matplotlib.figure.Figure at 0x114079f90>"
      ]
     },
     "metadata": {},
     "output_type": "display_data"
    },
    {
     "data": {
      "image/png": "[encoded data removed]",
      "text/plain": [
       "<matplotlib.figure.Figure at 0x112b997d0>"
      ]
     },
     "metadata": {},
     "output_type": "display_data"
    }
   ],
   "source": [
    "run_simulation(0)"
   ]
  },
  {
   "cell_type": "code",
   "execution_count": 95,
   "metadata": {
    "collapsed": false
   },
   "outputs": [
    {
     "data": {
      "image/png": "[encoded data removed]",
      "text/plain": [
       "<matplotlib.figure.Figure at 0x112bdcb50>"
      ]
     },
     "metadata": {},
     "output_type": "display_data"
    },
    {
     "data": {
      "image/png": "[encoded data removed]",
      "text/plain": [
       "<matplotlib.figure.Figure at 0x11438de50>"
      ]
     },
     "metadata": {},
     "output_type": "display_data"
    }
   ],
   "source": []
  },
  {
   "cell_type": "markdown",
   "metadata": {
    "collapsed": true
   },
   "source": [
    "### Parte B"
   ]
  },
  {
   "cell_type": "markdown",
   "metadata": {},
   "source": [
    "Fijo $V_{syn} =  -80$"
   ]
  },
  {
   "cell_type": "code",
   "execution_count": 102,
   "metadata": {
    "collapsed": false
   },
   "outputs": [
    {
     "name": "stdout",
     "output_type": "stream",
     "text": [
      "g_syn 0.0\n",
      "2 0.14285 7.0003500175\n",
      "========\n",
      "0.335016750838 0.350017500875 -2.46012300615\n",
      "========\n",
      "desfasaje: 0.335016750838\n",
      "g_syn 0.210526315789\n",
      "2 0.14285 7.0003500175\n",
      "========\n",
      "0.390019500975 0.395019750988 -2.41512075604\n",
      "========\n",
      "desfasaje: 0.390019500975\n",
      "g_syn 0.421052631579\n",
      "2 0.14285 7.0003500175\n",
      "========\n",
      "0.425021251063 0.435021751088 -2.38011900595\n",
      "========\n",
      "desfasaje: 0.425021251063\n",
      "g_syn 0.631578947368\n",
      "2 0.14285 7.0003500175\n",
      "========\n",
      "0.435021751088 0.4400220011 -2.37511875594\n",
      "========\n",
      "desfasaje: 0.435021751088\n",
      "g_syn 0.842105263158\n",
      "2 0.14285 7.0003500175\n",
      "========\n",
      "0.42002100105 0.42002100105 -2.39511975599\n",
      "========\n",
      "desfasaje: 0.42002100105\n",
      "g_syn 1.05263157895\n",
      "2 0.14285 7.0003500175\n",
      "========\n",
      "0.400020001 0.390019500975 -2.42012100605\n",
      "========\n",
      "desfasaje: 0.400020001\n",
      "g_syn 1.26315789474\n",
      "2 0.14285 7.0003500175\n",
      "========\n",
      "-3.61018050903 -2.45512275614 -6.42532126606\n",
      "========\n",
      "desfasaje: -3.61018050903\n",
      "g_syn 1.47368421053\n",
      "2 0.14285 7.0003500175\n",
      "========\n",
      "-3.67018350918 -2.51012550628 -6.48532426621\n",
      "========\n",
      "desfasaje: -3.67018350918\n",
      "g_syn 1.68421052632\n",
      "2 0.14285 7.0003500175\n",
      "========\n",
      "0.2400120006 0.250012500625 -3.72518625931\n",
      "========\n",
      "desfasaje: 0.2400120006\n",
      "g_syn 1.89473684211\n",
      "2 0.14285 7.0003500175\n",
      "========\n",
      "0.2000100005 0.210010500525 -3.77018850943\n",
      "========\n",
      "desfasaje: 0.2000100005\n",
      "g_syn 2.10526315789\n",
      "2 0.14285 7.0003500175\n",
      "========\n",
      "0.170008500425 0.18000900045 -3.80519025951\n",
      "========\n",
      "desfasaje: 0.170008500425\n",
      "g_syn 2.31578947368\n",
      "2 0.14285 7.0003500175\n",
      "========\n",
      "0.150007500375 0.1600080004 -3.83019150958\n",
      "========\n",
      "desfasaje: 0.150007500375\n",
      "g_syn 2.52631578947\n",
      "2 0.14285 7.0003500175\n",
      "========\n",
      "0.135006750338 0.145007250363 -3.85019250963\n",
      "========\n",
      "desfasaje: 0.135006750338\n",
      "g_syn 2.73684210526\n",
      "2 0.14285 7.0003500175\n",
      "========\n",
      "0.1200060003 0.135006750338 -3.87019350968\n",
      "========\n",
      "desfasaje: 0.1200060003\n",
      "g_syn 2.94736842105\n",
      "2 0.14285 7.0003500175\n",
      "========\n",
      "0.115005750288 0.1200060003 -3.88519425971\n",
      "========\n",
      "desfasaje: 0.115005750288\n",
      "g_syn 3.15789473684\n",
      "2 0.14285 7.0003500175\n",
      "========\n",
      "0.105005250263 0.1200060003 -3.90019500975\n",
      "========\n",
      "desfasaje: 0.105005250263\n",
      "g_syn 3.36842105263\n",
      "2 0.14285 7.0003500175\n",
      "========\n",
      "0.10000500025 0.110005500275 -3.91519575979\n",
      "========\n",
      "desfasaje: 0.10000500025\n",
      "g_syn 3.57894736842\n",
      "2 0.14285 7.0003500175\n",
      "========\n",
      "0.0950047502375 0.105005250263 -3.93019650983\n",
      "========\n",
      "desfasaje: 0.0950047502375\n",
      "g_syn 3.78947368421\n",
      "2 0.14285 7.0003500175\n",
      "========\n",
      "0.090004500225 0.0950047502375 -3.95019750988\n",
      "========\n",
      "desfasaje: 0.090004500225\n",
      "g_syn 4.0\n",
      "2 0.14285 7.0003500175\n",
      "========\n",
      "0.0750037501875 0.0800040002 -3.97519875994\n",
      "========\n",
      "desfasaje: 0.0750037501875\n"
     ]
    },
    {
     "data": {
      "image/png": "[encoded data removed]",
      "text/plain": [
       "<matplotlib.figure.Figure at 0x1130f1590>"
      ]
     },
     "metadata": {},
     "output_type": "display_data"
    },
    {
     "data": {
      "image/png": "[encoded data removed]",
      "text/plain": [
       "<matplotlib.figure.Figure at 0x1147da0d0>"
      ]
     },
     "metadata": {},
     "output_type": "display_data"
    }
   ],
   "source": [
    "V_syn =  -80\n",
    "run_simulation(V_syn)"
   ]
  },
  {
   "cell_type": "code",
   "execution_count": null,
   "metadata": {
    "collapsed": true
   },
   "outputs": [],
   "source": []
  }
 ],
 "metadata": {
  "kernelspec": {
   "display_name": "Python 2",
   "language": "python",
   "name": "python2"
  },
  "language_info": {
   "codemirror_mode": {
    "name": "ipython",
    "version": 2
   },
   "file_extension": ".py",
   "mimetype": "text/x-python",
   "name": "python",
   "nbconvert_exporter": "python",
   "pygments_lexer": "ipython2",
   "version": "2.7.13"
  }
 },
 "nbformat": 4,
 "nbformat_minor": 2
}
