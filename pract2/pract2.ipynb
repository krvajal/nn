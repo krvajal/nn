{
 "cells": [
  {
   "cell_type": "code",
   "execution_count": 124,
   "metadata": {
    "collapsed": true
   },
   "outputs": [],
   "source": [
    "import numpy as np\n",
    "from numpy import exp, tanh\n",
    "import matplotlib.pyplot as plt\n",
    "from scipy.integrate import odeint\n",
    "from scipy.signal import find_peaks_cwt\n",
    "import numpy.fft as fft"
   ]
  },
  {
   "cell_type": "markdown",
   "metadata": {},
   "source": [
    "## Ejercicio 1"
   ]
  },
  {
   "cell_type": "markdown",
   "metadata": {},
   "source": [
    "Considerar un sistema con dos poblaciones de neuronas descritas por un modelo tasa de disparo con una relación I-f semilineal:\n",
    "\n",
    "$$\\tau\\frac{d f_e}{dt} = - f_{e} + g_{ee} S_e - g_{ei}S_{i} + I_{e}$$\n",
    "$$\\tau\\frac{d f_i}{dt} = - f_{i} + g_{ie} S_e - g_{ii}S_{i} + I_{i}$$\n",
    "donde $S_{e} = f_e H(f_e)$ y $S_{i} = f_i H(f_i)$"
   ]
  },
  {
   "cell_type": "code",
   "execution_count": 126,
   "metadata": {
    "collapsed": false
   },
   "outputs": [
    {
     "data": {
      "image/png": "[encoded data removed]",
      "text/plain": [
       "<matplotlib.figure.Figure at 0x113ab5610>"
      ]
     },
     "metadata": {},
     "output_type": "display_data"
    }
   ],
   "source": [
    "def heavy_side(f):\n",
    "    if f > 0: return 1\n",
    "    return 0\n",
    "def S(f):\n",
    "    return f*heavy_side(f)\n",
    "\n",
    "# define the diferential equations \n",
    "def ode_function(y, t, I_e, I_i, g):\n",
    "    fe = y[0]\n",
    "    fi = y[1] \n",
    "    dfedt = - fe + g[0,0]*S(fe)- g[0,1]*S(fi) + I_e\n",
    "    dfidt = - fi + g[1,0]*S(fe)- g[1,1]*S(fi) + I_i\n",
    "    return np.array([dfedt,dfidt])\n",
    "    \n",
    "g = np.array([ [1,1],[-1,1]])\n",
    "N = 100\n",
    "t = np.linspace(0,100,N)\n",
    "fe0 = -10\n",
    "fi0 = 2\n",
    "I_e = 1\n",
    "I_i = 1\n",
    "sol = odeint(ode_function, [fe0, fi0], t, args=(I_e, I_i, g) )\n",
    "plt.plot(t,sol[:,0], '-',label=r'$f_{e}$')\n",
    "plt.plot(t,sol[:,1], '-',label=r'$f_{i}$')\n",
    "plt.xlabel(r\"Tiempo [s]\")\n",
    "plt.ylabel(r\"Tasa de disparo\")\n",
    "plt.legend()\n",
    "plt.show()"
   ]
  },
  {
   "cell_type": "markdown",
   "metadata": {},
   "source": [
    "## Ejercicio 2"
   ]
  },
  {
   "cell_type": "markdown",
   "metadata": {},
   "source": [
    "Simular la dinámica de dos neuronas HH conectadas simétricamente con interacciones sináticas excitatorias. "
   ]
  },
  {
   "cell_type": "code",
   "execution_count": 127,
   "metadata": {
    "collapsed": true
   },
   "outputs": [],
   "source": [
    "#### define the differential equations\n",
    "def a_m(V):\n",
    "    return 0.1 * (V + 40)/(1- exp(-(V+40)/10.0))\n",
    "def b_m(V):\n",
    "    return 4.0 * exp(- (V+65)/18)\n",
    "def a_h(V):\n",
    "    return 0.07 * exp(-(V + 65)/20)\n",
    "def b_h(V):\n",
    "    return 1/(1.0 + exp(-(V + 35)/10))\n",
    "def a_n(V):\n",
    "    return 0.01* (V + 55)/(1 - exp(-(V + 55)/10))\n",
    "def b_n(V):\n",
    "    return 0.125 *exp(-(V + 65)/80)\n",
    "def m_inf(V):\n",
    "    return a_m(V)/(a_m(V) + b_m(V))\n",
    "def h_inf(V):\n",
    "    return a_h(V)/(a_h(V) + b_h(V))\n",
    "def n_inf(V):\n",
    "    return a_n(V)/(a_n(V) + b_n(V))\n",
    "def tau_m(V):\n",
    "    return 1/(a_m(V) + b_m(V))\n",
    "def tau_n(V):\n",
    "    return 1/(a_n(V) + b_n(V))\n",
    "def tau_h(V):\n",
    "    return 1/(a_h(V) + b_h(V))\n",
    "\n",
    "def s_inf(V):\n",
    "    return  0.5*(1 + tanh(V/5.0))"
   ]
  },
  {
   "cell_type": "code",
   "execution_count": 220,
   "metadata": {
    "collapsed": true
   },
   "outputs": [],
   "source": [
    "C = 1;\n",
    "V_na = 50;\n",
    "V_k = -77;\n",
    "V_l = -54.4;\n",
    "g_na = 120;\n",
    "g_k = 36;\n",
    "g_l = 0.3;"
   ]
  },
  {
   "cell_type": "code",
   "execution_count": 319,
   "metadata": {
    "collapsed": false
   },
   "outputs": [],
   "source": [
    "# define the differential equations\n",
    "# Y =[V1, m1,h1,n1,S1,V2,m2,h2,n2,S2]\n",
    "\n",
    "def pend(y, t,I_ext, V_syn, tau,g_syn):\n",
    "    \n",
    "    V1, m1,h1,n1,S1,V2,m2,h2,n2,S2 = y\n",
    "    dV1dt = 1/C* (I_ext - g_na *m1**3 * h1*(V1- V_na) - g_k * n1**4 * (V1 - V_k) - g_l * (V1 - V_l) - g_syn*S2*(V1 - V_syn))\n",
    "    dV2dt = 1/C* (I_ext - g_na *m2**3 * h2*(V2- V_na) - g_k * n2**4 * (V2 - V_k) - g_l * (V2 - V_l)  - g_syn*S1*(V2 - V_syn))\n",
    "    \n",
    "    dm1dt =  (m_inf(V1) - m1)/tau_m(V1)\n",
    "    dm2dt =  (m_inf(V2) - m2)/tau_m(V2)\n",
    "    \n",
    "    dn1dt =  (n_inf(V1) - n1)/tau_n(V1)\n",
    "    dn2dt =  (n_inf(V2) - n2)/tau_n(V2)\n",
    "    \n",
    "    dh1dt =  (h_inf(V1) - h1)/tau_h(V1)\n",
    "    dh2dt =  (h_inf(V2) - h2)/tau_h(V2)\n",
    "    \n",
    "    dS1dt = (s_inf(V1) - S1)/tau\n",
    "    dS2dt = (s_inf(V2) - S2)/tau\n",
    "    return [dV1dt, dm1dt, dh1dt, dn1dt, dS1dt,dV2dt, dm2dt, dh2dt, dn2dt, dS2dt]\n",
    "\n"
   ]
  },
  {
   "cell_type": "code",
   "execution_count": 483,
   "metadata": {
    "collapsed": false
   },
   "outputs": [],
   "source": [
    "def find_zero_pos(signal, start):\n",
    "    \n",
    "    if start >= signal.size: return start\n",
    "    pos = start\n",
    "    while  pos < signal.size and signal[pos]*signal[pos-1] > 0:\n",
    "        pos = pos + 1\n",
    "    return pos\n",
    "\n",
    "def filter(value):\n",
    "    if(abs(value) < 10): return 0\n",
    "    return value\n",
    "def calcular_taza_disparo(times,spikes,spikes2):\n",
    "    assert times.size == spikes.size\n",
    "\n",
    "    print spikes.size\n",
    "   \n",
    "    for i in range(0,times.size):\n",
    "            if spikes[i] < 5: spikes[i] = 0.01\n",
    "            if spikes2[i] < 5: spikes2[i] = 0.01       \n",
    "    wdth = np.arange(1,30)\n",
    "    peaks = find_peaks_cwt(spikes,wdth, noise_perc=30)\n",
    "    if( len(peaks) < 5):\n",
    "        print \"no peaks found\"\n",
    "        return 0\n",
    "    peaks = peaks[1:-1]\n",
    "#     plt.plot(times,spikes,'-')\n",
    "#     plt.plot(times,spikes2,'-.')\n",
    "#     plt.plot(times[peaks],spikes[peaks],'o')\n",
    "#     plt.xlim([100,200])\n",
    "#     plt.show()\n",
    "    period = np.mean(np.diff(times[peaks]))\n",
    "    print \"freq\", 1/period\n",
    "    return 1.0/period\n",
    "\n",
    "\n",
    "def calcular_desfasaje(time, signal1, signal2):\n",
    "    \n",
    "    \"\"\" Calcula el desfasaje entre dos señales periódicas\"\"\"\n",
    "    assert time.size == signal1.size\n",
    "    assert time.size == signal2.size\n",
    "    \n",
    "    for i in range(0,time.size):\n",
    "            if signal1[i] < 5: signal1[i]= 0.01\n",
    "            if signal2[i] < 5: signal2[i] = 0.01\n",
    "\n",
    "    wdth = np.arange(1,25)\n",
    "    peaks = find_peaks_cwt(signal1,wdth, noise_perc=30)\n",
    "    \n",
    "    if( len(peaks) < 3 ): return 0\n",
    "    ancho = (peaks[2] - peaks[1])/2\n",
    "    print \"ancho\", ancho\n",
    "\n",
    "    interval1 = [ max(peaks[1] - ancho,0), peaks[1] + ancho]\n",
    "    print interval1\n",
    "    pos2 = np.argmax(signal2[interval1[0]:interval1[1]])\n",
    "    pos1 = np.argmax(signal1[interval1[0]:interval1[1]])\n",
    "    delta_t = time[pos2] - time[pos1]\n",
    "    period = time[peaks[2]] - time[peaks[1]]\n",
    "#     plt.plot(time,signal1,'-')\n",
    "#     plt.plot(time,signal2,'-.')\n",
    "#     plt.xlim([100,150])\n",
    "#     plt.show()\n",
    "    return delta_t/period\n",
    "\n",
    "\n",
    "    "
   ]
  },
  {
   "cell_type": "markdown",
   "metadata": {},
   "source": [
    "#### Parte A"
   ]
  },
  {
   "cell_type": "markdown",
   "metadata": {},
   "source": [
    " Fijo $V_{syn} = 0$"
   ]
  },
  {
   "cell_type": "code",
   "execution_count": 484,
   "metadata": {
    "collapsed": false
   },
   "outputs": [],
   "source": [
    "\n",
    "def run_simulation(V_syn):\n",
    "    t = np.linspace(0,600,50000)\n",
    "    I_ext = 10 # suficiente para que dispare\n",
    "    tau = 3\n",
    "    n = 20\n",
    "    g_syn = np.linspace(0,16,n)\n",
    "    plt.figure()\n",
    "    indices = t > 100\n",
    "    spikes = []\n",
    "    tasas = []\n",
    "    desfasajes = []\n",
    "    # V1, m1,h1,n1,S1,V2,m2,h2,n2,S2 \n",
    "    y0 = [0, \n",
    "          0,\n",
    "          0,\n",
    "          0,\n",
    "          0,\n",
    "          0,\n",
    "          0,\n",
    "          0,\n",
    "          0,\n",
    "          0]\n",
    "    for i in range(0,n):\n",
    "        print \"===============\"\n",
    "        print  \"g_syn\",g_syn[i]\n",
    "        sol = odeint(pend, y0, t, args=(I_ext, V_syn,tau, g_syn[i]))\n",
    "    #     plt.subplot(n, 1, i + 1)\n",
    "    #     plt.xlim([20,40])\n",
    "    #     plt.plot(t[t_indices], sol[t_indices, 0] - mean_value, 'b', label='V1(t)')\n",
    "    #     plt.show()\n",
    "    #     plt.plot(t[t_indices], sol[t_indices, 5] - mean_value , 'r', label='V2(t)')\n",
    "    #     plt.show()\n",
    "    #     plt.text(10,0,r\"$g_{syn}$ = %lf\"%g_syn[i])\n",
    "#         sol[indices,0] = sol[indices,0] - np.mean(sol[indices,0])\n",
    "#         sol[indices,5] = sol[indices,5] - np.mean(sol[indices,5])\n",
    "\n",
    "        tasa = calcular_taza_disparo(t[indices],sol[indices,0], sol[indices,5])\n",
    "        desfasaje = calcular_desfasaje(t[indices], sol[indices,0],sol[indices,5])\n",
    "        print \"desfasaje:\",desfasaje\n",
    "        tasas.append([g_syn[i],tasa])\n",
    "        desfasajes.append([g_syn[i], desfasaje])\n",
    "    data = np.array(tasas)\n",
    "    plt.plot(data[:,0], data[:,1]*1000,'>-')\n",
    "    plt.xlabel(r\"$g_{syn}$\")\n",
    "    plt.ylabel(r\"Tasa de disparo [Hz]\")\n",
    "    plt.show()\n",
    "    data= np.array(desfasajes)\n",
    "    plt.plot(data[:,0],data[:,1],'x-')\n",
    "    plt.xlabel(r\"$g_{syn}$\")\n",
    "    plt.ylabel(r\"$Desfasaje$\")\n",
    "    plt.show()\n",
    "\n"
   ]
  },
  {
   "cell_type": "code",
   "execution_count": 485,
   "metadata": {
    "collapsed": false
   },
   "outputs": [
    {
     "name": "stdout",
     "output_type": "stream",
     "text": [
      "===============\n",
      "g_syn 0.0\n",
      "41666\n",
      "freq 0.068350483434\n",
      "ancho 601\n",
      "[677, 1879]\n",
      "desfasaje: 0.0\n",
      "===============\n",
      "g_syn 0.842105263158\n",
      "41666\n",
      "freq 0.0642601670798\n",
      "ancho 643\n",
      "[4136, 5422]\n",
      "desfasaje: 0.0\n",
      "===============\n",
      "g_syn 1.68421052632\n",
      "41666\n",
      "freq 0.0580075764454\n",
      "ancho 717\n",
      "[7645, 9079]\n",
      "desfasaje: 0.0\n",
      "===============\n",
      "g_syn 2.52631578947\n",
      "41666\n",
      "freq 0.024853794629\n",
      "ancho 1679\n",
      "[10265, 13623]\n",
      "desfasaje: 0.0\n",
      "===============\n",
      "g_syn 3.36842105263\n",
      "41666\n",
      "freq 0.0118554085455\n",
      "ancho 3516\n",
      "[12011, 19043]\n",
      "desfasaje: 0.0\n",
      "===============\n",
      "g_syn 4.21052631579\n",
      "41666\n",
      "no peaks found\n",
      "ancho 5776\n",
      "[13345, 24897]\n",
      "desfasaje: 0.0\n",
      "===============\n",
      "g_syn 5.05263157895\n",
      "41666\n",
      "no peaks found\n",
      "ancho 7570\n",
      "[14300, 29440]\n",
      "desfasaje: 0.0\n",
      "===============\n",
      "g_syn 5.89473684211\n",
      "41666\n",
      "no peaks found\n",
      "ancho 8134\n",
      "[17259, 33527]\n",
      "desfasaje: 0.0\n",
      "===============\n",
      "g_syn 6.73684210526\n",
      "41666\n",
      "no peaks found\n",
      "ancho 6787\n",
      "[21301, 34875]\n",
      "desfasaje: 0.0\n",
      "===============\n",
      "g_syn 7.57894736842\n",
      "41666\n",
      "no peaks found\n",
      "ancho 5435\n",
      "[25356, 36226]\n",
      "desfasaje: 0.0\n",
      "===============\n",
      "g_syn 8.42105263158\n",
      "41666\n",
      "no peaks found\n",
      "ancho 4535\n",
      "[28056, 37126]\n",
      "desfasaje: 0.0\n",
      "===============\n",
      "g_syn 9.26315789474\n",
      "41666\n",
      "no peaks found\n",
      "ancho 3625\n",
      "[30786, 38036]\n",
      "desfasaje: 0.0\n",
      "===============\n",
      "g_syn 10.1052631579\n",
      "41666\n",
      "no peaks found\n",
      "ancho 3173\n",
      "[32142, 38488]\n",
      "desfasaje: 0.0\n",
      "===============\n",
      "g_syn 10.9473684211\n",
      "41666\n",
      "no peaks found\n",
      "ancho 2713\n",
      "[33523, 38949]\n",
      "desfasaje: 0.0\n",
      "===============\n",
      "g_syn 11.7894736842\n",
      "41666\n",
      "no peaks found\n",
      "ancho 2693\n",
      "[33583, 38969]\n",
      "desfasaje: 0.0\n",
      "===============\n",
      "g_syn 12.6315789474\n",
      "41666\n",
      "no peaks found\n",
      "ancho 2666\n",
      "[33664, 38996]\n",
      "desfasaje: 0.0\n",
      "===============\n",
      "g_syn 13.4736842105\n",
      "41666\n",
      "no peaks found\n",
      "ancho 2656\n",
      "[33693, 39005]\n",
      "desfasaje: 0.0\n",
      "===============\n",
      "g_syn 14.3157894737\n",
      "41666\n",
      "no peaks found\n",
      "ancho 2664\n",
      "[33670, 38998]\n",
      "desfasaje: 0.0\n",
      "===============\n",
      "g_syn 15.1578947368\n",
      "41666\n",
      "no peaks found\n",
      "ancho 2663\n",
      "[33673, 38999]\n",
      "desfasaje: 0.0\n",
      "===============\n",
      "g_syn 16.0\n",
      "41666\n",
      "no peaks found\n",
      "ancho 2644\n",
      "[33730, 39018]\n",
      "desfasaje: 0.0\n"
     ]
    },
    {
     "data": {
      "image/png": "[encoded data removed]",
      "text/plain": [
       "<matplotlib.figure.Figure at 0x107913890>"
      ]
     },
     "metadata": {},
     "output_type": "display_data"
    },
    {
     "data": {
      "image/png": "[encoded data removed]",
      "text/plain": [
       "<matplotlib.figure.Figure at 0x11390ef50>"
      ]
     },
     "metadata": {},
     "output_type": "display_data"
    }
   ],
   "source": [
    "V_syn = 0\n",
    "run_simulation(V_syn)"
   ]
  },
  {
   "cell_type": "markdown",
   "metadata": {
    "collapsed": true
   },
   "source": [
    "### Parte B"
   ]
  },
  {
   "cell_type": "markdown",
   "metadata": {},
   "source": [
    "Fijo $V_{syn} =  -80$"
   ]
  },
  {
   "cell_type": "code",
   "execution_count": null,
   "metadata": {
    "collapsed": false
   },
   "outputs": [
    {
     "name": "stdout",
     "output_type": "stream",
     "text": [
      "===============\n",
      "g_syn 0.0\n",
      "41666\n",
      "freq 0.068350483434\n",
      "ancho 601\n",
      "[677, 1879]\n",
      "desfasaje: 0.0\n",
      "===============\n",
      "g_syn 0.842105263158\n",
      "41666\n"
     ]
    }
   ],
   "source": [
    "V_syn =  -80\n",
    "run_simulation(V_syn)"
   ]
  },
  {
   "cell_type": "markdown",
   "metadata": {},
   "source": [
    "Se oberva que para $V_{syn} = 0 mV$ la frecuencia disminuye al aumentar la conducctancia y la diferencia de fase se hace cero, es decir, tienden a alinearse. Mientras que para $V_{syn} = -80 mV$ la frecuencia no cambia mucho pero la fase si, pues las neuronas tienden a ponerse en contrafase."
   ]
  }
 ],
 "metadata": {
  "kernelspec": {
   "display_name": "Python 2",
   "language": "python",
   "name": "python2"
  },
  "language_info": {
   "codemirror_mode": {
    "name": "ipython",
    "version": 2
   },
   "file_extension": ".py",
   "mimetype": "text/x-python",
   "name": "python",
   "nbconvert_exporter": "python",
   "pygments_lexer": "ipython2",
   "version": "2.7.13"
  }
 },
 "nbformat": 4,
 "nbformat_minor": 2
}
